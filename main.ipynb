{
 "cells": [
  {
   "cell_type": "markdown",
   "metadata": {},
   "source": [
    "# Wildfire Image Classification Project ML Pipeline "
   ]
  },
  {
   "cell_type": "code",
   "execution_count": 27,
   "metadata": {},
   "outputs": [],
   "source": [
    "import os\n",
    "import torch\n",
    "from glob import glob\n",
    "from torchvision.transforms import transforms\n",
    "from torch.utils.data import DataLoader, random_split\n",
    "from torchvision.datasets import ImageFolder\n",
    "import imagehash\n",
    "import matplotlib.pyplot as plt\n",
    "from PIL import Image, ImageFile\n",
    "from typing import List, Tuple, Set\n",
    "from matplotlib.ticker import MaxNLocator\n",
    "import numpy as np\n",
    "from numpy import ndarray\n",
    "from sklearn.neighbors import BallTree\n",
    "from collections import Counter\n",
    "from functools import partial\n",
    "\n",
    "ImageFile.LOAD_TRUNCATED_IMAGES = True"
   ]
  },
  {
   "cell_type": "code",
   "execution_count": 4,
   "metadata": {},
   "outputs": [
    {
     "data": {
      "text/plain": [
       "'cuda'"
      ]
     },
     "execution_count": 4,
     "metadata": {},
     "output_type": "execute_result"
    }
   ],
   "source": [
    "device = torch.device('cuda' if torch.cuda.is_available() else 'cpu')\n",
    "device.type"
   ]
  },
  {
   "cell_type": "code",
   "execution_count": 5,
   "metadata": {},
   "outputs": [],
   "source": [
    "%matplotlib inline\n",
    "%load_ext autoreload\n",
    "%autoreload 2"
   ]
  },
  {
   "cell_type": "markdown",
   "metadata": {},
   "source": [
    "### Helper Functions"
   ]
  },
  {
   "cell_type": "markdown",
   "metadata": {},
   "source": [
    "##### Obtaining (Near) Duplicate Images\n",
    "Perceptual hashing (pHash) is used to represent the visual content of images in a compact and consistent manner by converting an image into a hash value that uniquely represents its visual characteristics. The hamming distance measure between the binary of the hashes is used to determine the similarity between images. The process of pHash is explained [here](https://hackerfactor.com/blog/index.php%3F/archives/432-Looks-Like-It.html)."
   ]
  },
  {
   "cell_type": "code",
   "execution_count": 6,
   "metadata": {},
   "outputs": [],
   "source": [
    "def getBinaryArrayAsString(arr: ndarray):\n",
    "  return ''.join('1' if x else '0' for x in arr.hash.flatten())"
   ]
  },
  {
   "cell_type": "code",
   "execution_count": 7,
   "metadata": {},
   "outputs": [],
   "source": [
    "def removeSimilarImages(image_paths: Set[str], threshold: float) -> Tuple[int, List[Tuple[str, str]], Set[str]]:\n",
    "  '''\n",
    "  Removes (Near) duplicate images using Fast-implementation of kNN using BallTree.\n",
    "  \n",
    "  Returns:\n",
    "  - Number of images with exact hash\n",
    "  - A list pairs of near duplicate images where the second path is the removed path\n",
    "  - A list of image paths that is free from any near duplicate images to the specified threshold\n",
    "  '''\n",
    "  \n",
    "  def process_similar_items(removed_path: Set[str], distances: ndarray, indices: ndarray, curr_path: str) -> bool:\n",
    "    for i in range(0, len(distances)):\n",
    "      similarHashKey = ''.join(data[indices[i]].flatten())\n",
    "      similarity = 1 - distances[i]\n",
    "      \n",
    "      if similarity >= threshold:\n",
    "        similarPath = hash_image_dict[similarHashKey]\n",
    "        near_duplicates.append((curr_path, similarPath))\n",
    "        removed_path.add(similarPath)\n",
    "      else:\n",
    "        return False\n",
    "    return True\n",
    "        \n",
    "  hash_image_dict = {getBinaryArrayAsString(imagehash.dhash(Image.open(path))): path for path in image_paths}\n",
    "  num_exact_images = len(image_paths) - len(hash_image_dict)\n",
    "  near_duplicates = [] \n",
    "  removed_path = set()\n",
    "  \n",
    "  data = np.array([list(value) for value in list(hash_image_dict.keys())])\n",
    "  ballt = BallTree(data, metric='hamming')\n",
    "\n",
    "  for hash, path in hash_image_dict.items():\n",
    "    if (path in removed_path):\n",
    "      continue\n",
    "    \n",
    "    k = 1   \n",
    "    need_to_increase_k = True\n",
    "    while need_to_increase_k:\n",
    "      distances, indices = ballt.query([list(hash)], k=(k + 5), return_distance=True, sort_results=True)\n",
    "      distances = distances.flatten()[k:]\n",
    "      indices = indices.flatten()[k:]\n",
    "      need_to_increase_k = process_similar_items(removed_path, distances, indices, path)\n",
    "      k += 5\n",
    "\n",
    "  remaining_paths = set(image_paths) - removed_path\n",
    "  return (num_exact_images, near_duplicates, remaining_paths)  "
   ]
  },
  {
   "cell_type": "markdown",
   "metadata": {},
   "source": [
    "##### Plotting Helper Functions"
   ]
  },
  {
   "cell_type": "code",
   "execution_count": 8,
   "metadata": {},
   "outputs": [],
   "source": [
    "def plotImagePairs(image_paths: List[Tuple[str, str]], title: str) -> None:\n",
    "  assert len(image_paths) > 0, 'image_paths must contain at least one pair'\n",
    "  \n",
    "  fig, axs = plt.subplots(nrows=len(image_paths), ncols=2, figsize=(6, 3 * len(image_paths)))\n",
    "  suptitle = fig.suptitle(title, fontsize=16)\n",
    "\n",
    "  if (len(image_paths) == 1):\n",
    "    axs[0].set_title(f'First Image')\n",
    "    axs[1].set_title(f'Second Image')\n",
    "    first_image = Image.open(image_paths[0][0]).resize([24, 24])\n",
    "    second_image = Image.open(image_paths[0][1]).resize([24, 24])\n",
    "\n",
    "    axs[0].imshow(first_image)\n",
    "    axs[1].imshow(second_image)\n",
    "    suptitle.set_y(1.02)\n",
    "    plt.show()\n",
    "    return\n",
    "  \n",
    "  axs[0,0].set_title(f'First Image')\n",
    "  axs[0,1].set_title(f'Second Image')\n",
    "  for i in range(len(image_paths)):\n",
    "    first_image = Image.open(image_paths[i][0]).resize([24, 24])\n",
    "    second_image = Image.open(image_paths[i][1]).resize([24, 24])\n",
    "\n",
    "    axs[i,0].imshow(first_image)\n",
    "    axs[i,1].imshow(second_image)\n",
    "\n",
    "  first_subplot_position = axs[0, 0].get_position()\n",
    "  first_subplot_y = first_subplot_position.y1\n",
    "  suptitle.set_y(first_subplot_y + 0.2 / len(image_paths))\n",
    "  plt.show()"
   ]
  },
  {
   "cell_type": "code",
   "execution_count": 69,
   "metadata": {},
   "outputs": [],
   "source": [
    "def plotBarGraph(groups: List[str], values: List[int], title: str) -> None:\n",
    "  assert len(groups) > 0, 'Groups must be at least 1'\n",
    "  assert len(groups) == len(values), 'Groups and values must have the same length'\n",
    "  \n",
    "  fig, axs = plt.subplots()\n",
    "  fig.suptitle(title, fontsize=16, y=0.97)\n",
    "  axs.bar(groups, values, color='#003f5c')\n",
    "  axs.yaxis.set_major_locator(MaxNLocator(integer=True))\n",
    "  axs.set_ylim(bottom=0)\n",
    "  plt.show()"
   ]
  },
  {
   "cell_type": "code",
   "execution_count": 70,
   "metadata": {},
   "outputs": [],
   "source": [
    "def plot2StackedBarGraph(groups: List[str], first_values: List[int], second_values: List[int], legend: List[str], title: str) -> None:\n",
    "  assert len(groups) > 0, 'Groups must be at least 1'\n",
    "  assert len(groups) == len(first_values) == len(second_values), 'Groups and values must have the same length'\n",
    "  assert len(legend) == 2, 'Legend should have a length of 2'\n",
    "  \n",
    "  fig, axs = plt.subplots()\n",
    "  fig.suptitle(title, fontsize=16, y=0.97)\n",
    "  axs.bar(groups, first_values, label=legend[0], color='#003f5c')\n",
    "  axs.bar(groups, second_values, bottom = first_values, label=legend[1], color='#bc5090')\n",
    "  axs.yaxis.set_major_locator(MaxNLocator(integer=True))\n",
    "  axs.legend()\n",
    "  axs.set_ylim(bottom=0)\n",
    "  plt.show()"
   ]
  },
  {
   "cell_type": "code",
   "execution_count": 71,
   "metadata": {},
   "outputs": [],
   "source": [
    "def plot3StackedBarGraph(groups: List[str], first_values: List[int], second_values: List[int], third_values: List[int], legend: List[str], title: str) -> None:\n",
    "  assert len(groups) > 0, 'Groups must be at least 1'\n",
    "  assert len(groups) == len(first_values) == len(second_values) == len(third_values), 'Groups and values must have the same length'\n",
    "  assert len(legend) == 3, 'Legend should have a length of 3'\n",
    "  \n",
    "  fig, axs = plt.subplots()\n",
    "  fig.suptitle(title, fontsize=16, y=0.97)\n",
    "  axs.bar(groups, first_values, label=legend[0], color='#003f5c')\n",
    "  axs.bar(groups, second_values, bottom = first_values, label=legend[1], color='#bc5090')\n",
    "  axs.bar(groups, third_values, bottom = np.add(first_values, second_values), label=legend[2], color='#ffa600')\n",
    "  axs.yaxis.set_major_locator(MaxNLocator(integer=True))\n",
    "  axs.legend()\n",
    "  axs.set_ylim(bottom=0)\n",
    "  plt.show()"
   ]
  },
  {
   "cell_type": "code",
   "execution_count": 60,
   "metadata": {},
   "outputs": [],
   "source": [
    "def plotPieChartGraph(title: str, sizes: List[int], labels: List[str], explode: List[int]) -> None:\n",
    "  assert len(labels) > 0, 'Labels must be at least 1'\n",
    "  assert len(labels) == len(sizes) == len(explode), 'Labels, sizes, and explode must have the same length'\n",
    "  \n",
    "  plt.pie(sizes, labels=labels, autopct='%1.0f%%', pctdistance=0.5, labeldistance=1.3, explode=explode, shadow=True, startangle=90)\n",
    "  plt.suptitle(title, fontsize=16, y=0.95)\n",
    "  plt.figure(facecolor='white')\n",
    "  plt.show()"
   ]
  },
  {
   "cell_type": "markdown",
   "metadata": {},
   "source": [
    "##### Image Helper Methods"
   ]
  },
  {
   "cell_type": "code",
   "execution_count": 12,
   "metadata": {},
   "outputs": [],
   "source": [
    "def isImageValid(image_path: str) -> bool:\n",
    "  try:\n",
    "    _ = Image.open(image_path)\n",
    "    return True\n",
    "  except:\n",
    "    return False"
   ]
  },
  {
   "cell_type": "markdown",
   "metadata": {},
   "source": [
    "### Hyper-Parameters"
   ]
  },
  {
   "cell_type": "code",
   "execution_count": 13,
   "metadata": {},
   "outputs": [],
   "source": [
    "SIMILARITY_THRESHOLD = 0.80\n",
    "IMAGE_SIZE = 244\n",
    "BATCH_SIZE = 64\n",
    "TRAIN_PERC = 0.8"
   ]
  },
  {
   "cell_type": "markdown",
   "metadata": {},
   "source": [
    "### Image Preprocessing"
   ]
  },
  {
   "cell_type": "markdown",
   "metadata": {},
   "source": [
    "##### Image Augmentation\n",
    "- Resize: To make sure all the images will have the same size\n",
    "- RandomHorizontalFlip: Data augmentation\n",
    "- ToTensor: Since we are using pytorch it expects a tensor not a numpy; it will convert the values from 0-255 to 0-1\n",
    "- Normalize: Normalises the mean and standard deviation of the rgb values to 0.5 for each of the 3 channels"
   ]
  },
  {
   "cell_type": "code",
   "execution_count": 14,
   "metadata": {},
   "outputs": [],
   "source": [
    "transformer=transforms.Compose([\n",
    "  transforms.Resize((IMAGE_SIZE, IMAGE_SIZE)),\n",
    "  transforms.RandomHorizontalFlip(),\n",
    "  transforms.ToTensor(), \n",
    "  transforms.Normalize([0.5,0.5,0.5], [0.5,0.5,0.5])\n",
    "])"
   ]
  },
  {
   "cell_type": "markdown",
   "metadata": {},
   "source": [
    "##### Data Loader"
   ]
  },
  {
   "cell_type": "code",
   "execution_count": 17,
   "metadata": {},
   "outputs": [],
   "source": [
    "data_path = os.path.join('data')\n",
    "\n",
    "wildfire_paths = os.path.join('data', 'wildfire')\n",
    "nowildfire_paths = os.path.join('data', 'nowildfire')"
   ]
  },
  {
   "cell_type": "code",
   "execution_count": 21,
   "metadata": {},
   "outputs": [],
   "source": [
    "wildfire_image_paths = glob(wildfire_paths + '/*.jpg')\n",
    "valid_wildfire_image_paths = [path for path in wildfire_image_paths if isImageValid(path)]\n",
    "nowildfire_image_paths = glob(nowildfire_paths + '/*.jpg')\n",
    "valid_nowildfire_image_paths = [path for path in nowildfire_image_paths if isImageValid(path)]"
   ]
  },
  {
   "cell_type": "code",
   "execution_count": 24,
   "metadata": {},
   "outputs": [],
   "source": [
    "(num_exact_images_wildfire, near_duplicates_wildfire, remaining_paths_wildfire) = removeSimilarImages(valid_wildfire_image_paths, SIMILARITY_THRESHOLD)"
   ]
  },
  {
   "cell_type": "code",
   "execution_count": 25,
   "metadata": {},
   "outputs": [],
   "source": [
    "(num_exact_images_nowildfire, near_duplicates_nowildfire, remaining_paths_nowildfire) = removeSimilarImages(valid_nowildfire_image_paths, SIMILARITY_THRESHOLD)"
   ]
  },
  {
   "cell_type": "code",
   "execution_count": 28,
   "metadata": {},
   "outputs": [],
   "source": [
    "def isValidFile(image_path: str, valid_paths: List[str]) -> bool:\n",
    "  return image_path in valid_paths\n",
    "\n",
    "valid_data_paths = remaining_paths_wildfire.union(remaining_paths_nowildfire)\n",
    "isValidDataFile = partial(isValidFile, valid_paths=valid_data_paths)"
   ]
  },
  {
   "cell_type": "code",
   "execution_count": 30,
   "metadata": {},
   "outputs": [],
   "source": [
    "dataset = ImageFolder(data_path, transform=transformer, is_valid_file=isValidDataFile)\n",
    "train_size = int(TRAIN_PERC * len(dataset))\n",
    "test_size = len(dataset) - train_size\n",
    "train_dataset, test_dataset = random_split(dataset, [train_size, test_size])\n",
    "\n",
    "train_loader = DataLoader(train_dataset, batch_size=BATCH_SIZE, shuffle=True, num_workers=4)\n",
    "test_loader = DataLoader(test_dataset, batch_size=BATCH_SIZE, shuffle=False, num_workers=4)"
   ]
  },
  {
   "cell_type": "markdown",
   "metadata": {},
   "source": [
    "##### Data Anaylsis"
   ]
  },
  {
   "cell_type": "markdown",
   "metadata": {},
   "source": [
    "This section aims to visualise the distribution and characteristics of the loaded data, including data distribution, number of corrupted image files, comparison between unique and duplicate images, and identification of exact and near-duplicate images."
   ]
  },
  {
   "cell_type": "code",
   "execution_count": 95,
   "metadata": {},
   "outputs": [
    {
     "data": {
      "image/png": "[encoded data removed]",
      "text/plain": [
       "<Figure size 432x288 with 1 Axes>"
      ]
     },
     "metadata": {},
     "output_type": "display_data"
    },
    {
     "data": {
      "text/plain": [
       "<Figure size 432x288 with 0 Axes>"
      ]
     },
     "metadata": {},
     "output_type": "display_data"
    }
   ],
   "source": [
    "classes = ['Wildfire', 'No Wildfire']\n",
    "class_idx = dataset.class_to_idx\n",
    "class_instance = dict(Counter(dataset.targets))\n",
    "\n",
    "obtained_wildfire_count = class_instance[class_idx['wildfire']]\n",
    "obtained_nowildfire_count = class_instance[class_idx['nowildfire']]\n",
    "\n",
    "plotPieChartGraph(title='Actual Valid Unique Image \\n Data Distribution', sizes=[obtained_wildfire_count, obtained_nowildfire_count], labels=classes, explode=[0.1, 0])"
   ]
  },
  {
   "cell_type": "code",
   "execution_count": 72,
   "metadata": {},
   "outputs": [
    {
     "data": {
      "image/png": "[encoded data removed]",
      "text/plain": [
       "<Figure size 432x288 with 1 Axes>"
      ]
     },
     "metadata": {},
     "output_type": "display_data"
    }
   ],
   "source": [
    "original_wildfire_count = len(wildfire_image_paths)\n",
    "original_nowildfire_count = len(nowildfire_image_paths)\n",
    "\n",
    "valid_wildfire_count = len(valid_wildfire_image_paths)\n",
    "valid_nowildfire_count = len(valid_nowildfire_image_paths)\n",
    "\n",
    "corrupted_wildfire_count = original_wildfire_count - valid_wildfire_count\n",
    "corrupted_nowildfire_count = original_nowildfire_count - valid_nowildfire_count\n",
    "\n",
    "plotBarGraph(groups=classes, values=[corrupted_wildfire_count, corrupted_nowildfire_count], title='Number Of Corrupted Images')"
   ]
  },
  {
   "cell_type": "code",
   "execution_count": 90,
   "metadata": {},
   "outputs": [
    {
     "data": {
      "image/png": "[encoded data removed]",
      "text/plain": [
       "<Figure size 432x288 with 1 Axes>"
      ]
     },
     "metadata": {},
     "output_type": "display_data"
    }
   ],
   "source": [
    "near_duplicates_wildfire_as_set = set([path[1] for path in near_duplicates_wildfire])\n",
    "near_duplicates_nowildfire_as_set = set([path[1] for path in near_duplicates_nowildfire])\n",
    "\n",
    "near_duplicates_wildfire_count = len(near_duplicates_wildfire_as_set)\n",
    "near_duplicates_nowildfire_count = len(near_duplicates_nowildfire_as_set)\n",
    "\n",
    "first_values = [obtained_wildfire_count, obtained_nowildfire_count]\n",
    "second_values = [near_duplicates_wildfire_count + num_exact_images_wildfire, near_duplicates_nowildfire_count + num_exact_images_nowildfire]\n",
    "legend = ['Unique Images', 'Duplicates']\n",
    "plot2StackedBarGraph(classes, first_values, second_values, legend, 'Number of Unique and Duplicate Images')"
   ]
  },
  {
   "cell_type": "code",
   "execution_count": 93,
   "metadata": {},
   "outputs": [
    {
     "data": {
      "image/png": "[encoded data removed]",
      "text/plain": [
       "<Figure size 432x288 with 1 Axes>"
      ]
     },
     "metadata": {},
     "output_type": "display_data"
    }
   ],
   "source": [
    "first_values = [near_duplicates_wildfire_count, near_duplicates_wildfire_count]\n",
    "second_values = [num_exact_images_wildfire, num_exact_images_nowildfire]\n",
    "legend = ['Near Duplicates', 'Exact Duplicates']\n",
    "plot2StackedBarGraph(classes, first_values, second_values, legend, 'Number of Exact and Near Duplicates')"
   ]
  }
 ],
 "metadata": {
  "kernelspec": {
   "display_name": "Python 3",
   "language": "python",
   "name": "python3"
  },
  "language_info": {
   "codemirror_mode": {
    "name": "ipython",
    "version": 3
   },
   "file_extension": ".py",
   "mimetype": "text/x-python",
   "name": "python",
   "nbconvert_exporter": "python",
   "pygments_lexer": "ipython3",
   "version": "3.10.5"
  }
 },
 "nbformat": 4,
 "nbformat_minor": 2
}
